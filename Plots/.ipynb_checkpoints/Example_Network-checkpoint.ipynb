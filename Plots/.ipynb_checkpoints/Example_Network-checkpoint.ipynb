{
 "cells": [
  {
   "cell_type": "code",
   "execution_count": 1,
   "metadata": {},
   "outputs": [],
   "source": [
    "##EJEMPLO PARA DIBUJAR UNA RED USANDO LA LIBRERIA NETWORKX"
   ]
  },
  {
   "cell_type": "code",
   "execution_count": 23,
   "metadata": {},
   "outputs": [],
   "source": [
    "import networkx as nx\n",
    "from networkx.algorithms import bipartite\n",
    "import matplotlib.pyplot as plt\n",
    "\n",
    "K=10;L=20 #Numero de nodos de una y otra clase\n",
    "Bipartite_Test = nx.Graph()\n",
    "Bipartite_Test.add_nodes_from(range(0,K),bipartite=0)\n",
    "Bipartite_Test.add_nodes_from(range(K+1,L+K+1),bipartite=1)"
   ]
  },
  {
   "cell_type": "code",
   "execution_count": 84,
   "metadata": {},
   "outputs": [],
   "source": [
    "B = nx.Graph()\n",
    "# Add nodes with the node attribute \"bipartite\"\n",
    "B.add_nodes_from([1, 2, 3, 4], bipartite=0)\n",
    "B.add_nodes_from(['Patients_'+str(k) for k in range(0,K)], bipartite=0)\n",
    "B.add_nodes_from(['Microbes_'+str(l) for l in range(0,L)], bipartite=1)\n",
    "# Add edges only between nodes of opposite node sets\n",
    "#B.add_edges_from([(1, 'a'), (1, 'b'), (2, 'b'), (2, 'c'), (3, 'c'), (4, 'a')])"
   ]
  },
  {
   "cell_type": "code",
   "execution_count": 101,
   "metadata": {},
   "outputs": [
    {
     "data": {
      "image/png": "[encoded data removed]",
      "text/plain": [
       "<Figure size 432x288 with 1 Axes>"
      ]
     },
     "metadata": {},
     "output_type": "display_data"
    }
   ],
   "source": [
    "top_nodes=[]\n",
    "bottom_nodes=[]\n",
    "for n,d in B.nodes(data=True):\n",
    "    if d['bipartite']==0:\n",
    "        top_nodes.append(n)\n",
    "    else:\n",
    "        bottom_nodes.append(n)\n",
    "\n",
    "        \n",
    "top_nodes=set(top_nodes)\n",
    "bottom_nodes=set(bottom_nodes)\n",
    "pos=nx.bipartite_layout(B,top_nodes,align='vertical',scale=1,aspect_ratio=4)\n",
    "nx.draw(B, pos)"
   ]
  }
 ],
 "metadata": {
  "kernelspec": {
   "display_name": "Python 2",
   "language": "python",
   "name": "python2"
  },
  "language_info": {
   "codemirror_mode": {
    "name": "ipython",
    "version": 2
   },
   "file_extension": ".py",
   "mimetype": "text/x-python",
   "name": "python",
   "nbconvert_exporter": "python",
   "pygments_lexer": "ipython2",
   "version": "2.7.12"
  }
 },
 "nbformat": 4,
 "nbformat_minor": 2
}
